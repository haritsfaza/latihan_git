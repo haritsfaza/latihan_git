{
 "cells": [
  {
   "cell_type": "code",
   "execution_count": null,
   "id": "896b2e1c-809e-40f5-8ddb-c154b13d102f",
   "metadata": {},
   "outputs": [],
   "source": []
  }
 ],
 "metadata": {
  "kernelspec": {
   "display_name": "",
   "name": ""
  },
  "language_info": {
   "name": ""
  }
 },
 "nbformat": 4,
 "nbformat_minor": 5
}
